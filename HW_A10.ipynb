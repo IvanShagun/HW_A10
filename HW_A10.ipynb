{
 "cells": [
  {
   "cell_type": "code",
   "execution_count": 79,
   "id": "2721f4cb",
   "metadata": {},
   "outputs": [],
   "source": [
    "import numpy as np\n",
    "import scipy.stats as st\n",
    "import pandas as pd"
   ]
  },
  {
   "cell_type": "markdown",
   "id": "c9602d06",
   "metadata": {},
   "source": [
    "#### Задание 1\n",
    "Провести дисперсионный анализ для определения того, есть ли различия среднего роста среди взрослых футболистов, хоккеистов и штангистов. Даны значения роста в трех группах случайно выбранных спортсменов: Футболисты: 173, 175, 180, 178, 177, 185, 183, 182. Хоккеисты: 177, 179, 180, 188, 177, 172, 171, 184, 180. Штангисты: 172, 173, 169, 177, 166, 180, 178, 177, 172, 166, 170."
   ]
  },
  {
   "cell_type": "code",
   "execution_count": 6,
   "id": "27279db7",
   "metadata": {},
   "outputs": [],
   "source": [
    "ft = np.array([173, 175, 180, 178, 177, 185, 183, 182])\n",
    "hc = np.array([177, 179, 180, 188, 177, 172, 171, 184, 180])\n",
    "pl = np.array([172, 173, 169, 177, 166, 180, 178, 177, 172, 166, 170])"
   ]
  },
  {
   "cell_type": "markdown",
   "id": "16d8eff1",
   "metadata": {},
   "source": [
    "Проведем проверку на нормальность"
   ]
  },
  {
   "cell_type": "code",
   "execution_count": 14,
   "id": "c800d8d6",
   "metadata": {},
   "outputs": [
    {
     "name": "stdout",
     "output_type": "stream",
     "text": [
      "ShapiroResult(statistic=0.9775082468986511, pvalue=0.9495404362678528)\n",
      "ShapiroResult(statistic=0.9579196572303772, pvalue=0.7763139009475708)\n",
      "ShapiroResult(statistic=0.9386808276176453, pvalue=0.5051165223121643)\n"
     ]
    }
   ],
   "source": [
    "print(st.shapiro(ft))\n",
    "print(st.shapiro(hc))\n",
    "print(st.shapiro(pl))"
   ]
  },
  {
   "cell_type": "markdown",
   "id": "9b5c12c2",
   "metadata": {},
   "source": [
    "$p-value > \\alpha = 0.05 $ для каждой выборки. Принимаем, что нормальность присутствует"
   ]
  },
  {
   "cell_type": "markdown",
   "id": "893ebefd",
   "metadata": {},
   "source": [
    "Проверим равенство дисперсий"
   ]
  },
  {
   "cell_type": "code",
   "execution_count": 12,
   "id": "d37b18c2",
   "metadata": {},
   "outputs": [
    {
     "data": {
      "text/plain": [
       "BartlettResult(statistic=0.4640521043406442, pvalue=0.7929254656083131)"
      ]
     },
     "execution_count": 12,
     "metadata": {},
     "output_type": "execute_result"
    }
   ],
   "source": [
    "st.bartlett(ft, hc, pl)"
   ]
  },
  {
   "cell_type": "markdown",
   "id": "4077d601",
   "metadata": {},
   "source": [
    "$p-value > \\alpha = 0.05 $. Принимаем равенство дисперсий"
   ]
  },
  {
   "cell_type": "markdown",
   "id": "1f733f2a",
   "metadata": {},
   "source": [
    "Проведем однофакторный дисперсионный анализ.<br>\n",
    "Сформулируем гипотезы:<br>\n",
    "$ H_0 : \\mu_1 = \\mu_2 = \\mu_3 $ - Статистически значимых различий не обнаружено<br>\n",
    "$ H_1 : \\mu_1 \\neq \\mu_2 \\neq \\mu_3 $ - Имеются статистически значемые различия"
   ]
  },
  {
   "cell_type": "code",
   "execution_count": 16,
   "id": "64865fd2",
   "metadata": {},
   "outputs": [
    {
     "data": {
      "text/plain": [
       "F_onewayResult(statistic=5.500053450812596, pvalue=0.010482206918698694)"
      ]
     },
     "execution_count": 16,
     "metadata": {},
     "output_type": "execute_result"
    }
   ],
   "source": [
    "st.f_oneway(ft, hc, pl)"
   ]
  },
  {
   "cell_type": "markdown",
   "id": "c81b1f64",
   "metadata": {},
   "source": [
    "$p-value < \\alpha=0.05$ - Принимаем альтернативную гипотезу. На уровне статистической значимости 5% имеются различия среднего роста трех групп спортсменов"
   ]
  }
 ],
 "metadata": {
  "kernelspec": {
   "display_name": "Python 3 (ipykernel)",
   "language": "python",
   "name": "python3"
  },
  "language_info": {
   "codemirror_mode": {
    "name": "ipython",
    "version": 3
   },
   "file_extension": ".py",
   "mimetype": "text/x-python",
   "name": "python",
   "nbconvert_exporter": "python",
   "pygments_lexer": "ipython3",
   "version": "3.11.3"
  }
 },
 "nbformat": 4,
 "nbformat_minor": 5
}
